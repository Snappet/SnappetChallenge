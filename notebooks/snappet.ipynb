{
 "cells": [
  {
   "cell_type": "code",
   "execution_count": 4,
   "metadata": {},
   "outputs": [
    {
     "data": {
      "application/vnd.jupyter.widget-view+json": {
       "model_id": "",
       "version_major": 2,
       "version_minor": 0
      },
      "text/plain": [
       "RmlndXJlV2lkZ2V0KHsKICAgICdkYXRhJzogW3sndHlwZSc6ICdzY2F0dGVyJywgJ3VpZCc6ICdhMDIxZTk0ZS1kODExLTQ2NDctYmRiNS1kZWNmYzdhNWEyMDQnLCAneSc6IFsyLCAxLCA0LCDigKY=\n"
      ]
     },
     "metadata": {},
     "output_type": "display_data"
    }
   ],
   "source": [
    "import plotly.graph_objs as go\n",
    "fig = go.FigureWidget()\n",
    "# Display an empty figure\n",
    "import plotly.graph_objs as go\n",
    "fig = go.FigureWidget()\n",
    "# Display an empty figure\n",
    "# Add a scatter chart\n",
    "fig.add_scatter(y=[2, 1, 4, 3])\n",
    "# Add a bar chart\n",
    "fig.add_bar(y=[1, 4, 3, 2])\n",
    "# Add a title\n",
    "fig.layout.title = 'Hello FigureWidget'\n",
    "fig"
   ]
  },
  {
   "cell_type": "markdown",
   "metadata": {},
   "source": [
    "**Preliminary stuff**"
   ]
  },
  {
   "cell_type": "code",
   "execution_count": 3,
   "metadata": {},
   "outputs": [],
   "source": [
    "# Do some imports\n",
    "import pandas as pd\n",
    "import numpy as np\n",
    "import plotly.graph_objs as go"
   ]
  },
  {
   "cell_type": "code",
   "execution_count": 7,
   "metadata": {},
   "outputs": [],
   "source": [
    "# Read the dataset\n",
    "df = pd.read_csv('~/dev/snappet_challenge/SnappetChallenge/Data/work.csv')"
   ]
  },
  {
   "cell_type": "markdown",
   "metadata": {},
   "source": [
    "**Some data exploration**"
   ]
  },
  {
   "cell_type": "code",
   "execution_count": 34,
   "metadata": {},
   "outputs": [
    {
     "data": {
      "text/html": [
       "<div>\n",
       "<style scoped>\n",
       "    .dataframe tbody tr th:only-of-type {\n",
       "        vertical-align: middle;\n",
       "    }\n",
       "\n",
       "    .dataframe tbody tr th {\n",
       "        vertical-align: top;\n",
       "    }\n",
       "\n",
       "    .dataframe thead th {\n",
       "        text-align: right;\n",
       "    }\n",
       "</style>\n",
       "<table border=\"1\" class=\"dataframe\">\n",
       "  <thead>\n",
       "    <tr style=\"text-align: right;\">\n",
       "      <th></th>\n",
       "      <th>SubmittedAnswerId</th>\n",
       "      <th>SubmitDateTime</th>\n",
       "      <th>Correct</th>\n",
       "      <th>Progress</th>\n",
       "      <th>UserId</th>\n",
       "      <th>ExerciseId</th>\n",
       "      <th>Difficulty</th>\n",
       "      <th>Subject</th>\n",
       "      <th>Domain</th>\n",
       "      <th>LearningObjective</th>\n",
       "    </tr>\n",
       "  </thead>\n",
       "  <tbody>\n",
       "    <tr>\n",
       "      <th>0</th>\n",
       "      <td>2395278</td>\n",
       "      <td>2015-03-02 07:35:38.740</td>\n",
       "      <td>1</td>\n",
       "      <td>0</td>\n",
       "      <td>40281</td>\n",
       "      <td>1038396</td>\n",
       "      <td>-200.000000</td>\n",
       "      <td>Begrijpend Lezen</td>\n",
       "      <td>-</td>\n",
       "      <td>Diverse leerdoelen Begrijpend Lezen</td>\n",
       "    </tr>\n",
       "    <tr>\n",
       "      <th>1</th>\n",
       "      <td>2396494</td>\n",
       "      <td>2015-03-02 07:36:48.530</td>\n",
       "      <td>1</td>\n",
       "      <td>2</td>\n",
       "      <td>40281</td>\n",
       "      <td>1029120</td>\n",
       "      <td>329.234193</td>\n",
       "      <td>Begrijpend Lezen</td>\n",
       "      <td>-</td>\n",
       "      <td>Diverse leerdoelen Begrijpend Lezen</td>\n",
       "    </tr>\n",
       "    <tr>\n",
       "      <th>2</th>\n",
       "      <td>2396638</td>\n",
       "      <td>2015-03-02 07:36:55.487</td>\n",
       "      <td>1</td>\n",
       "      <td>0</td>\n",
       "      <td>40282</td>\n",
       "      <td>1013670</td>\n",
       "      <td>-200.000000</td>\n",
       "      <td>Begrijpend Lezen</td>\n",
       "      <td>-</td>\n",
       "      <td>Diverse leerdoelen Begrijpend Lezen</td>\n",
       "    </tr>\n",
       "    <tr>\n",
       "      <th>3</th>\n",
       "      <td>2396696</td>\n",
       "      <td>2015-03-02 07:36:59.653</td>\n",
       "      <td>1</td>\n",
       "      <td>2</td>\n",
       "      <td>40281</td>\n",
       "      <td>1029121</td>\n",
       "      <td>353.397286</td>\n",
       "      <td>Begrijpend Lezen</td>\n",
       "      <td>-</td>\n",
       "      <td>Diverse leerdoelen Begrijpend Lezen</td>\n",
       "    </tr>\n",
       "    <tr>\n",
       "      <th>4</th>\n",
       "      <td>2397209</td>\n",
       "      <td>2015-03-02 07:37:24.030</td>\n",
       "      <td>1</td>\n",
       "      <td>0</td>\n",
       "      <td>40285</td>\n",
       "      <td>1038506</td>\n",
       "      <td>-200.000000</td>\n",
       "      <td>Begrijpend Lezen</td>\n",
       "      <td>-</td>\n",
       "      <td>Diverse leerdoelen Begrijpend Lezen</td>\n",
       "    </tr>\n",
       "    <tr>\n",
       "      <th>5</th>\n",
       "      <td>2397600</td>\n",
       "      <td>2015-03-02 07:37:43.500</td>\n",
       "      <td>0</td>\n",
       "      <td>-10</td>\n",
       "      <td>40285</td>\n",
       "      <td>1038509</td>\n",
       "      <td>230.697167</td>\n",
       "      <td>Begrijpend Lezen</td>\n",
       "      <td>-</td>\n",
       "      <td>Diverse leerdoelen Begrijpend Lezen</td>\n",
       "    </tr>\n",
       "    <tr>\n",
       "      <th>6</th>\n",
       "      <td>2397725</td>\n",
       "      <td>2015-03-02 07:37:48.990</td>\n",
       "      <td>1</td>\n",
       "      <td>0</td>\n",
       "      <td>40285</td>\n",
       "      <td>1038509</td>\n",
       "      <td>230.697167</td>\n",
       "      <td>Begrijpend Lezen</td>\n",
       "      <td>-</td>\n",
       "      <td>Diverse leerdoelen Begrijpend Lezen</td>\n",
       "    </tr>\n",
       "    <tr>\n",
       "      <th>7</th>\n",
       "      <td>2397740</td>\n",
       "      <td>2015-03-02 07:37:49.553</td>\n",
       "      <td>1</td>\n",
       "      <td>2</td>\n",
       "      <td>40282</td>\n",
       "      <td>1013691</td>\n",
       "      <td>323.953290</td>\n",
       "      <td>Begrijpend Lezen</td>\n",
       "      <td>-</td>\n",
       "      <td>Diverse leerdoelen Begrijpend Lezen</td>\n",
       "    </tr>\n",
       "    <tr>\n",
       "      <th>8</th>\n",
       "      <td>2397893</td>\n",
       "      <td>2015-03-02 07:37:56.963</td>\n",
       "      <td>1</td>\n",
       "      <td>0</td>\n",
       "      <td>40282</td>\n",
       "      <td>1013695</td>\n",
       "      <td>191.983914</td>\n",
       "      <td>Begrijpend Lezen</td>\n",
       "      <td>-</td>\n",
       "      <td>Diverse leerdoelen Begrijpend Lezen</td>\n",
       "    </tr>\n",
       "    <tr>\n",
       "      <th>9</th>\n",
       "      <td>2398069</td>\n",
       "      <td>2015-03-02 07:38:05.060</td>\n",
       "      <td>1</td>\n",
       "      <td>4</td>\n",
       "      <td>40282</td>\n",
       "      <td>1013698</td>\n",
       "      <td>417.570959</td>\n",
       "      <td>Begrijpend Lezen</td>\n",
       "      <td>-</td>\n",
       "      <td>Diverse leerdoelen Begrijpend Lezen</td>\n",
       "    </tr>\n",
       "    <tr>\n",
       "      <th>10</th>\n",
       "      <td>2398104</td>\n",
       "      <td>2015-03-02 07:38:06.243</td>\n",
       "      <td>1</td>\n",
       "      <td>2</td>\n",
       "      <td>40285</td>\n",
       "      <td>1038510</td>\n",
       "      <td>268.627581</td>\n",
       "      <td>Begrijpend Lezen</td>\n",
       "      <td>-</td>\n",
       "      <td>Diverse leerdoelen Begrijpend Lezen</td>\n",
       "    </tr>\n",
       "    <tr>\n",
       "      <th>11</th>\n",
       "      <td>2398238</td>\n",
       "      <td>2015-03-02 07:38:12.533</td>\n",
       "      <td>0</td>\n",
       "      <td>-7</td>\n",
       "      <td>40282</td>\n",
       "      <td>1013704</td>\n",
       "      <td>339.854340</td>\n",
       "      <td>Begrijpend Lezen</td>\n",
       "      <td>-</td>\n",
       "      <td>Diverse leerdoelen Begrijpend Lezen</td>\n",
       "    </tr>\n",
       "    <tr>\n",
       "      <th>12</th>\n",
       "      <td>2398291</td>\n",
       "      <td>2015-03-02 07:38:15.247</td>\n",
       "      <td>1</td>\n",
       "      <td>0</td>\n",
       "      <td>40282</td>\n",
       "      <td>1013704</td>\n",
       "      <td>339.854340</td>\n",
       "      <td>Begrijpend Lezen</td>\n",
       "      <td>-</td>\n",
       "      <td>Diverse leerdoelen Begrijpend Lezen</td>\n",
       "    </tr>\n",
       "    <tr>\n",
       "      <th>13</th>\n",
       "      <td>2398575</td>\n",
       "      <td>2015-03-02 07:38:27.163</td>\n",
       "      <td>1</td>\n",
       "      <td>4</td>\n",
       "      <td>40281</td>\n",
       "      <td>1029123</td>\n",
       "      <td>414.861410</td>\n",
       "      <td>Begrijpend Lezen</td>\n",
       "      <td>-</td>\n",
       "      <td>Diverse leerdoelen Begrijpend Lezen</td>\n",
       "    </tr>\n",
       "    <tr>\n",
       "      <th>14</th>\n",
       "      <td>2398821</td>\n",
       "      <td>2015-03-02 07:38:36.493</td>\n",
       "      <td>1</td>\n",
       "      <td>2</td>\n",
       "      <td>40285</td>\n",
       "      <td>1038512</td>\n",
       "      <td>323.927134</td>\n",
       "      <td>Begrijpend Lezen</td>\n",
       "      <td>-</td>\n",
       "      <td>Diverse leerdoelen Begrijpend Lezen</td>\n",
       "    </tr>\n",
       "  </tbody>\n",
       "</table>\n",
       "</div>"
      ],
      "text/plain": [
       "    SubmittedAnswerId          SubmitDateTime  Correct  Progress  UserId  \\\n",
       "0             2395278 2015-03-02 07:35:38.740        1         0   40281   \n",
       "1             2396494 2015-03-02 07:36:48.530        1         2   40281   \n",
       "2             2396638 2015-03-02 07:36:55.487        1         0   40282   \n",
       "3             2396696 2015-03-02 07:36:59.653        1         2   40281   \n",
       "4             2397209 2015-03-02 07:37:24.030        1         0   40285   \n",
       "5             2397600 2015-03-02 07:37:43.500        0       -10   40285   \n",
       "6             2397725 2015-03-02 07:37:48.990        1         0   40285   \n",
       "7             2397740 2015-03-02 07:37:49.553        1         2   40282   \n",
       "8             2397893 2015-03-02 07:37:56.963        1         0   40282   \n",
       "9             2398069 2015-03-02 07:38:05.060        1         4   40282   \n",
       "10            2398104 2015-03-02 07:38:06.243        1         2   40285   \n",
       "11            2398238 2015-03-02 07:38:12.533        0        -7   40282   \n",
       "12            2398291 2015-03-02 07:38:15.247        1         0   40282   \n",
       "13            2398575 2015-03-02 07:38:27.163        1         4   40281   \n",
       "14            2398821 2015-03-02 07:38:36.493        1         2   40285   \n",
       "\n",
       "    ExerciseId  Difficulty           Subject Domain  \\\n",
       "0      1038396 -200.000000  Begrijpend Lezen      -   \n",
       "1      1029120  329.234193  Begrijpend Lezen      -   \n",
       "2      1013670 -200.000000  Begrijpend Lezen      -   \n",
       "3      1029121  353.397286  Begrijpend Lezen      -   \n",
       "4      1038506 -200.000000  Begrijpend Lezen      -   \n",
       "5      1038509  230.697167  Begrijpend Lezen      -   \n",
       "6      1038509  230.697167  Begrijpend Lezen      -   \n",
       "7      1013691  323.953290  Begrijpend Lezen      -   \n",
       "8      1013695  191.983914  Begrijpend Lezen      -   \n",
       "9      1013698  417.570959  Begrijpend Lezen      -   \n",
       "10     1038510  268.627581  Begrijpend Lezen      -   \n",
       "11     1013704  339.854340  Begrijpend Lezen      -   \n",
       "12     1013704  339.854340  Begrijpend Lezen      -   \n",
       "13     1029123  414.861410  Begrijpend Lezen      -   \n",
       "14     1038512  323.927134  Begrijpend Lezen      -   \n",
       "\n",
       "                      LearningObjective  \n",
       "0   Diverse leerdoelen Begrijpend Lezen  \n",
       "1   Diverse leerdoelen Begrijpend Lezen  \n",
       "2   Diverse leerdoelen Begrijpend Lezen  \n",
       "3   Diverse leerdoelen Begrijpend Lezen  \n",
       "4   Diverse leerdoelen Begrijpend Lezen  \n",
       "5   Diverse leerdoelen Begrijpend Lezen  \n",
       "6   Diverse leerdoelen Begrijpend Lezen  \n",
       "7   Diverse leerdoelen Begrijpend Lezen  \n",
       "8   Diverse leerdoelen Begrijpend Lezen  \n",
       "9   Diverse leerdoelen Begrijpend Lezen  \n",
       "10  Diverse leerdoelen Begrijpend Lezen  \n",
       "11  Diverse leerdoelen Begrijpend Lezen  \n",
       "12  Diverse leerdoelen Begrijpend Lezen  \n",
       "13  Diverse leerdoelen Begrijpend Lezen  \n",
       "14  Diverse leerdoelen Begrijpend Lezen  "
      ]
     },
     "execution_count": 34,
     "metadata": {},
     "output_type": "execute_result"
    }
   ],
   "source": [
    "# Let's do some data exploration. First, show the first few lines\n",
    "df.head(15)"
   ]
  },
  {
   "cell_type": "markdown",
   "metadata": {},
   "source": [
    "Looks fine; at least looks as expected. We can even already draw some preliminary conclusions:\n",
    " - Correct == 1 means a correct answer (progress >0)\n",
    " - Correct == 0 means a wrong answer (progress <0)\n",
    " - ExerciseId and AnswerId have probably lots of levels (will check later)\n",
    " - SubmitDateTime looks like a string; will need to correct\n",
    " - Difficulty is sometimes -200; need to check what that is."
   ]
  },
  {
   "cell_type": "code",
   "execution_count": 113,
   "metadata": {},
   "outputs": [
    {
     "data": {
      "text/plain": [
       "SubmittedAnswerId    False\n",
       "SubmitDateTime       False\n",
       "Correct              False\n",
       "Progress             False\n",
       "UserId               False\n",
       "ExerciseId           False\n",
       "Difficulty            True\n",
       "Subject              False\n",
       "Domain               False\n",
       "LearningObjective    False\n",
       "dtype: bool"
      ]
     },
     "execution_count": 113,
     "metadata": {},
     "output_type": "execute_result"
    }
   ],
   "source": [
    "# Check for NaN values:\n",
    "df.isna().any()"
   ]
  },
  {
   "cell_type": "markdown",
   "metadata": {},
   "source": [
    "Only column Difficulty contains NaN values. The rest is filled completely."
   ]
  },
  {
   "cell_type": "code",
   "execution_count": 35,
   "metadata": {},
   "outputs": [
    {
     "data": {
      "text/plain": [
       "SubmittedAnswerId             int64\n",
       "SubmitDateTime       datetime64[ns]\n",
       "Correct                       int64\n",
       "Progress                      int64\n",
       "UserId                        int64\n",
       "ExerciseId                    int64\n",
       "Difficulty                  float64\n",
       "Subject                      object\n",
       "Domain                       object\n",
       "LearningObjective            object\n",
       "dtype: object"
      ]
     },
     "execution_count": 35,
     "metadata": {},
     "output_type": "execute_result"
    }
   ],
   "source": [
    "# As said above: let's check the SubmitDateTime\n",
    "df.dtypes"
   ]
  },
  {
   "cell_type": "code",
   "execution_count": 36,
   "metadata": {},
   "outputs": [
    {
     "data": {
      "text/plain": [
       "SubmittedAnswerId             int64\n",
       "SubmitDateTime       datetime64[ns]\n",
       "Correct                       int64\n",
       "Progress                      int64\n",
       "UserId                        int64\n",
       "ExerciseId                    int64\n",
       "Difficulty                  float64\n",
       "Subject                      object\n",
       "Domain                       object\n",
       "LearningObjective            object\n",
       "dtype: object"
      ]
     },
     "execution_count": 36,
     "metadata": {},
     "output_type": "execute_result"
    }
   ],
   "source": [
    "# Yes, it is an object. Set SubmitDateTime to the correct data type.\n",
    "df['SubmitDateTime'] = pd.to_datetime(df.SubmitDateTime)\n",
    "df.dtypes"
   ]
  },
  {
   "cell_type": "markdown",
   "metadata": {},
   "source": [
    "All data types are ok now."
   ]
  },
  {
   "cell_type": "markdown",
   "metadata": {},
   "source": [
    "**Further exploration: column meaning and levels**"
   ]
  },
  {
   "cell_type": "code",
   "execution_count": 39,
   "metadata": {},
   "outputs": [
    {
     "data": {
      "text/html": [
       "<div>\n",
       "<style scoped>\n",
       "    .dataframe tbody tr th:only-of-type {\n",
       "        vertical-align: middle;\n",
       "    }\n",
       "\n",
       "    .dataframe tbody tr th {\n",
       "        vertical-align: top;\n",
       "    }\n",
       "\n",
       "    .dataframe thead th {\n",
       "        text-align: right;\n",
       "    }\n",
       "</style>\n",
       "<table border=\"1\" class=\"dataframe\">\n",
       "  <thead>\n",
       "    <tr style=\"text-align: right;\">\n",
       "      <th></th>\n",
       "      <th>SubmittedAnswerId</th>\n",
       "      <th>Correct</th>\n",
       "      <th>Progress</th>\n",
       "      <th>UserId</th>\n",
       "      <th>ExerciseId</th>\n",
       "      <th>Difficulty</th>\n",
       "    </tr>\n",
       "  </thead>\n",
       "  <tbody>\n",
       "    <tr>\n",
       "      <th>count</th>\n",
       "      <td>3.781200e+04</td>\n",
       "      <td>37812.000000</td>\n",
       "      <td>37812.000000</td>\n",
       "      <td>37812.000000</td>\n",
       "      <td>3.781200e+04</td>\n",
       "      <td>36177.000000</td>\n",
       "    </tr>\n",
       "    <tr>\n",
       "      <th>mean</th>\n",
       "      <td>4.522490e+07</td>\n",
       "      <td>0.798741</td>\n",
       "      <td>0.269861</td>\n",
       "      <td>42013.306067</td>\n",
       "      <td>4.147324e+05</td>\n",
       "      <td>259.089332</td>\n",
       "    </tr>\n",
       "    <tr>\n",
       "      <th>std</th>\n",
       "      <td>2.345443e+07</td>\n",
       "      <td>0.436385</td>\n",
       "      <td>8.678816</td>\n",
       "      <td>6771.861332</td>\n",
       "      <td>1.801075e+05</td>\n",
       "      <td>105.213608</td>\n",
       "    </tr>\n",
       "    <tr>\n",
       "      <th>min</th>\n",
       "      <td>2.395278e+06</td>\n",
       "      <td>0.000000</td>\n",
       "      <td>-153.000000</td>\n",
       "      <td>40267.000000</td>\n",
       "      <td>1.866000e+03</td>\n",
       "      <td>-200.000000</td>\n",
       "    </tr>\n",
       "    <tr>\n",
       "      <th>25%</th>\n",
       "      <td>2.665487e+07</td>\n",
       "      <td>1.000000</td>\n",
       "      <td>0.000000</td>\n",
       "      <td>40272.000000</td>\n",
       "      <td>3.833870e+05</td>\n",
       "      <td>184.813394</td>\n",
       "    </tr>\n",
       "    <tr>\n",
       "      <th>50%</th>\n",
       "      <td>4.095615e+07</td>\n",
       "      <td>1.000000</td>\n",
       "      <td>0.000000</td>\n",
       "      <td>40277.000000</td>\n",
       "      <td>3.896090e+05</td>\n",
       "      <td>261.282325</td>\n",
       "    </tr>\n",
       "    <tr>\n",
       "      <th>75%</th>\n",
       "      <td>6.750498e+07</td>\n",
       "      <td>1.000000</td>\n",
       "      <td>3.000000</td>\n",
       "      <td>40283.000000</td>\n",
       "      <td>4.166450e+05</td>\n",
       "      <td>327.682730</td>\n",
       "    </tr>\n",
       "    <tr>\n",
       "      <th>max</th>\n",
       "      <td>8.453230e+07</td>\n",
       "      <td>3.000000</td>\n",
       "      <td>91.000000</td>\n",
       "      <td>68421.000000</td>\n",
       "      <td>1.090819e+06</td>\n",
       "      <td>638.044152</td>\n",
       "    </tr>\n",
       "  </tbody>\n",
       "</table>\n",
       "</div>"
      ],
      "text/plain": [
       "       SubmittedAnswerId       Correct      Progress        UserId  \\\n",
       "count       3.781200e+04  37812.000000  37812.000000  37812.000000   \n",
       "mean        4.522490e+07      0.798741      0.269861  42013.306067   \n",
       "std         2.345443e+07      0.436385      8.678816   6771.861332   \n",
       "min         2.395278e+06      0.000000   -153.000000  40267.000000   \n",
       "25%         2.665487e+07      1.000000      0.000000  40272.000000   \n",
       "50%         4.095615e+07      1.000000      0.000000  40277.000000   \n",
       "75%         6.750498e+07      1.000000      3.000000  40283.000000   \n",
       "max         8.453230e+07      3.000000     91.000000  68421.000000   \n",
       "\n",
       "         ExerciseId    Difficulty  \n",
       "count  3.781200e+04  36177.000000  \n",
       "mean   4.147324e+05    259.089332  \n",
       "std    1.801075e+05    105.213608  \n",
       "min    1.866000e+03   -200.000000  \n",
       "25%    3.833870e+05    184.813394  \n",
       "50%    3.896090e+05    261.282325  \n",
       "75%    4.166450e+05    327.682730  \n",
       "max    1.090819e+06    638.044152  "
      ]
     },
     "execution_count": 39,
     "metadata": {},
     "output_type": "execute_result"
    }
   ],
   "source": [
    "# Let's check some levels and descriptive stats\n",
    "df.describe()"
   ]
  },
  {
   "cell_type": "markdown",
   "metadata": {},
   "source": [
    "*Submitted Answer Id*"
   ]
  },
  {
   "cell_type": "code",
   "execution_count": 40,
   "metadata": {},
   "outputs": [
    {
     "data": {
      "text/plain": [
       "37812"
      ]
     },
     "execution_count": 40,
     "metadata": {},
     "output_type": "execute_result"
    }
   ],
   "source": [
    "# As already expected: the submitted answer id is unique for every row\n",
    "len(pd.unique(df.SubmittedAnswerId))"
   ]
  },
  {
   "cell_type": "markdown",
   "metadata": {},
   "source": [
    "*SubmitDateTime*"
   ]
  },
  {
   "cell_type": "code",
   "execution_count": 54,
   "metadata": {},
   "outputs": [
    {
     "data": {
      "text/plain": [
       "SubmitDateTime\n",
       "2015-03-02     727\n",
       "2015-03-03    2051\n",
       "2015-03-04     773\n",
       "2015-03-05    2163\n",
       "2015-03-06    1263\n",
       "2015-03-09    1661\n",
       "2015-03-10    3325\n",
       "2015-03-11    2127\n",
       "2015-03-12    2532\n",
       "2015-03-13    2555\n",
       "2015-03-16     825\n",
       "2015-03-18    2035\n",
       "2015-03-19    1806\n",
       "2015-03-20     816\n",
       "2015-03-23    2168\n",
       "2015-03-24    3189\n",
       "2015-03-25    2992\n",
       "2015-03-26    1951\n",
       "2015-03-27    1030\n",
       "2015-03-30    1823\n",
       "Name: Correct, dtype: int64"
      ]
     },
     "execution_count": 54,
     "metadata": {},
     "output_type": "execute_result"
    }
   ],
   "source": [
    "# Check SubmitDateTime; count rows per date\n",
    "df.groupby(df.SubmitDateTime.dt.date).Correct.count()"
   ]
  },
  {
   "cell_type": "code",
   "execution_count": 52,
   "metadata": {},
   "outputs": [
    {
     "data": {
      "text/plain": [
       "count      20.00000\n",
       "mean     1890.60000\n",
       "std       799.95838\n",
       "min       727.00000\n",
       "25%      1204.75000\n",
       "50%      1993.00000\n",
       "75%      2259.00000\n",
       "max      3325.00000\n",
       "Name: Correct, dtype: float64"
      ]
     },
     "execution_count": 52,
     "metadata": {},
     "output_type": "execute_result"
    }
   ],
   "source": [
    "df.groupby(df.SubmitDateTime.dt.date).Correct.count().describe()"
   ]
  },
  {
   "cell_type": "markdown",
   "metadata": {},
   "source": [
    "Ok. We've got one month of data. Some weekdays are missing (might be holidays). Number of rows per day fluctuates between 727 and 3325. Mean is 1890. All OK."
   ]
  },
  {
   "cell_type": "markdown",
   "metadata": {},
   "source": [
    "*Correct*"
   ]
  },
  {
   "cell_type": "code",
   "execution_count": 55,
   "metadata": {},
   "outputs": [
    {
     "data": {
      "text/plain": [
       "array([1, 0, 3])"
      ]
     },
     "execution_count": 55,
     "metadata": {},
     "output_type": "execute_result"
    }
   ],
   "source": [
    "# Check the values of column 'Correct'\n",
    "pd.unique(df.Correct)"
   ]
  },
  {
   "cell_type": "code",
   "execution_count": 56,
   "metadata": {},
   "outputs": [
    {
     "data": {
      "text/plain": [
       "187"
      ]
     },
     "execution_count": 56,
     "metadata": {},
     "output_type": "execute_result"
    }
   ],
   "source": [
    "len(df[df.Correct == 3])"
   ]
  },
  {
   "cell_type": "markdown",
   "metadata": {},
   "source": [
    "That's interesting. Apparently, column 'Correct' contains three different values. 1 is 'true', 0 is 'false', \n",
    "However, it remains a bit of a mistery what 3 means. It could follow from the 'progress' variable"
   ]
  },
  {
   "cell_type": "code",
   "execution_count": 59,
   "metadata": {},
   "outputs": [
    {
     "data": {
      "text/plain": [
       "0    187\n",
       "Name: Progress, dtype: int64"
      ]
     },
     "execution_count": 59,
     "metadata": {},
     "output_type": "execute_result"
    }
   ],
   "source": [
    "df[df.Correct == 3].Progress.value_counts()"
   ]
  },
  {
   "cell_type": "markdown",
   "metadata": {},
   "source": [
    "Nope. Doesn't follow. All progress is zero. We will exclude these rows from the analysis later on."
   ]
  },
  {
   "cell_type": "markdown",
   "metadata": {},
   "source": [
    "*Progress*\n",
    "\n",
    "One of the more interesting variables. Let's see what it contains."
   ]
  },
  {
   "cell_type": "code",
   "execution_count": 84,
   "metadata": {},
   "outputs": [
    {
     "data": {
      "application/vnd.jupyter.widget-view+json": {
       "model_id": "b7ef51bcf74f446cbe8d17e442ca3c30",
       "version_major": 2,
       "version_minor": 0
      },
      "text/plain": [
       "RmlndXJlV2lkZ2V0KHsKICAgICdkYXRhJzogW3sndHlwZSc6ICdoaXN0b2dyYW0nLAogICAgICAgICAgICAgICd1aWQnOiAnNjE0YjgyZjktNDBmMC00NGNjLTk3N2ItOTFjYjViYzRhZDE5JyzigKY=\n"
      ]
     },
     "metadata": {},
     "output_type": "display_data"
    }
   ],
   "source": [
    "# Let's plot a histogram\n",
    "data = [go.Histogram(x=df.Progress)]\n",
    "layout = go.Layout(title='Progress distribution')\n",
    "fig = go.FigureWidget(data,layout)\n",
    "fig"
   ]
  },
  {
   "cell_type": "code",
   "execution_count": 85,
   "metadata": {},
   "outputs": [
    {
     "data": {
      "application/vnd.jupyter.widget-view+json": {
       "model_id": "c5ed3015674647faa298ada00c83c88b",
       "version_major": 2,
       "version_minor": 0
      },
      "text/plain": [
       "RmlndXJlV2lkZ2V0KHsKICAgICdkYXRhJzogW3sndHlwZSc6ICdoaXN0b2dyYW0nLAogICAgICAgICAgICAgICd1aWQnOiAnNWUzMmY1ZmItYTc0NC00YzliLWFhMmItOGM3Mjk4YmZkZWExJyzigKY=\n"
      ]
     },
     "metadata": {},
     "output_type": "display_data"
    }
   ],
   "source": [
    "# The outliers are not very helpful. Let's try again:\n",
    "data = [go.Histogram(x=df.Progress[(df.Progress > -20) & (df.Progress<20)])]\n",
    "layout = go.Layout(title='Progress distribution without outliers')\n",
    "fig = go.FigureWidget(data,layout)\n",
    "fig"
   ]
  },
  {
   "cell_type": "markdown",
   "metadata": {},
   "source": [
    "First conclusion: In about 50% of the cases the value for Progress is 0. Let's filter those cases out to get some more feeling about the variable:"
   ]
  },
  {
   "cell_type": "code",
   "execution_count": 86,
   "metadata": {},
   "outputs": [
    {
     "data": {
      "application/vnd.jupyter.widget-view+json": {
       "model_id": "1356b1f0adcb4441b4a36f6b83756a5e",
       "version_major": 2,
       "version_minor": 0
      },
      "text/plain": [
       "RmlndXJlV2lkZ2V0KHsKICAgICdkYXRhJzogW3sndHlwZSc6ICdoaXN0b2dyYW0nLAogICAgICAgICAgICAgICd1aWQnOiAnZGE3NzJkZTEtNmFmMC00OWRkLThjMzgtMDEzOGE0Yjk3Mjk0JyzigKY=\n"
      ]
     },
     "metadata": {},
     "output_type": "display_data"
    }
   ],
   "source": [
    "data = [go.Histogram(x=df.Progress[(df.Progress > -20) & (df.Progress<20) & (df.Progress!=0)])]\n",
    "layout = go.Layout(title='Progress distribution without outliers')\n",
    "fig = go.FigureWidget(data,layout)\n",
    "fig"
   ]
  },
  {
   "cell_type": "markdown",
   "metadata": {},
   "source": [
    "That's better. So we have two distributions, most likely one for wrong answers (left) and one for correct answers (right).\n",
    "Both are (obviously) skewed, because of the boundary at 0."
   ]
  },
  {
   "cell_type": "markdown",
   "metadata": {},
   "source": [
    "*UserId*"
   ]
  },
  {
   "cell_type": "code",
   "execution_count": 93,
   "metadata": {},
   "outputs": [
    {
     "data": {
      "text/plain": [
       "count      20.000000\n",
       "mean     1890.600000\n",
       "std       409.034216\n",
       "min       952.000000\n",
       "25%      1588.750000\n",
       "50%      1841.500000\n",
       "75%      2212.250000\n",
       "max      2554.000000\n",
       "Name: UserId, dtype: float64"
      ]
     },
     "execution_count": 93,
     "metadata": {},
     "output_type": "execute_result"
    }
   ],
   "source": [
    "df.UserId.value_counts().describe()"
   ]
  },
  {
   "cell_type": "markdown",
   "metadata": {},
   "source": [
    "We've got 20 students. On average, they have 1890 entries a day."
   ]
  },
  {
   "cell_type": "markdown",
   "metadata": {},
   "source": [
    "*ExerciseId*"
   ]
  },
  {
   "cell_type": "code",
   "execution_count": 96,
   "metadata": {},
   "outputs": [
    {
     "data": {
      "text/plain": [
       "count    6200.000000\n",
       "mean        6.098710\n",
       "std         7.076194\n",
       "min         1.000000\n",
       "25%         1.000000\n",
       "50%         2.000000\n",
       "75%         9.000000\n",
       "max        70.000000\n",
       "Name: ExerciseId, dtype: float64"
      ]
     },
     "execution_count": 96,
     "metadata": {},
     "output_type": "execute_result"
    }
   ],
   "source": [
    "df.ExerciseId.value_counts().describe()"
   ]
  },
  {
   "cell_type": "markdown",
   "metadata": {},
   "source": [
    "6200 different exercises have been done. Given the high cardinality, these are *questions* not exercises.  "
   ]
  },
  {
   "cell_type": "markdown",
   "metadata": {},
   "source": [
    "*Difficulty*"
   ]
  },
  {
   "cell_type": "code",
   "execution_count": 111,
   "metadata": {},
   "outputs": [
    {
     "data": {
      "application/vnd.jupyter.widget-view+json": {
       "model_id": "333b65cd92d449589635de35463ce033",
       "version_major": 2,
       "version_minor": 0
      },
      "text/plain": [
       "RmlndXJlV2lkZ2V0KHsKICAgICdkYXRhJzogW3sndHlwZSc6ICdoaXN0b2dyYW0nLAogICAgICAgICAgICAgICd1aWQnOiAnMDljNjVmMjQtMDM5Ny00YzJmLWIwZGEtMGI4OGY0YzcwM2U4JyzigKY=\n"
      ]
     },
     "metadata": {},
     "output_type": "display_data"
    }
   ],
   "source": [
    "# Another interesting variable - the difficulty level of the question. Let's check the distribution:\n",
    "data = [go.Histogram(x=df.Difficulty)]\n",
    "layout = go.Layout(title='Difficulty distribution')\n",
    "fig = go.FigureWidget(data,layout)\n",
    "fig"
   ]
  },
  {
   "cell_type": "markdown",
   "metadata": {},
   "source": [
    "Difficulty is more or less normally distributed among a mean of 260. There is a slight peak at -200. This seams to be an artefact (unrated exercises?)."
   ]
  },
  {
   "cell_type": "code",
   "execution_count": 115,
   "metadata": {},
   "outputs": [
    {
     "data": {
      "text/plain": [
       "False    36177\n",
       "True      1635\n",
       "Name: Difficulty, dtype: int64"
      ]
     },
     "execution_count": 115,
     "metadata": {},
     "output_type": "execute_result"
    }
   ],
   "source": [
    "# We also had NaN values for this column. Time to investigate. \n",
    "df.Difficulty.isna().value_counts()"
   ]
  },
  {
   "cell_type": "code",
   "execution_count": 121,
   "metadata": {},
   "outputs": [
    {
     "data": {
      "text/plain": [
       "341"
      ]
     },
     "execution_count": 121,
     "metadata": {},
     "output_type": "execute_result"
    }
   ],
   "source": [
    "# Ok. In 4% of the cases difficulty is not filled in. Maybe these are the unrated exercises?\n",
    "# In that case the progress variable should be 0, according to the documentation. Let's see.\n",
    "df[(df.Difficulty.isna()) & (df.Progress != 0)].Progress.value_counts().sum()"
   ]
  },
  {
   "cell_type": "markdown",
   "metadata": {},
   "source": [
    "No, this is not it. In 341 of the 1635 cases there is a progress value derived from the missing difficulty. Another question mark."
   ]
  },
  {
   "cell_type": "code",
   "execution_count": 149,
   "metadata": {},
   "outputs": [
    {
     "data": {
      "text/plain": [
       "1    6015\n",
       "0     185\n",
       "Name: Difficulty, dtype: int64"
      ]
     },
     "execution_count": 149,
     "metadata": {},
     "output_type": "execute_result"
    }
   ],
   "source": [
    "# Let's see if the difficulty of a question is absolute (i.e. the same time each question is posed)\n",
    "# or relative to the student. In the latter case, we'd expect the same ExerciseId to have various\n",
    "# difficulty levels.\n",
    "diff_per_exercise = df.groupby(['ExerciseId']).Difficulty.nunique()\n",
    "diff_per_exercise.value_counts()"
   ]
  },
  {
   "cell_type": "markdown",
   "metadata": {},
   "source": [
    "It is a function of the question."
   ]
  },
  {
   "cell_type": "markdown",
   "metadata": {},
   "source": [
    "*Subject, Domain, Learning Objective*"
   ]
  },
  {
   "cell_type": "code",
   "execution_count": 122,
   "metadata": {},
   "outputs": [
    {
     "data": {
      "text/plain": [
       "Rekenen             22462\n",
       "Spelling            14235\n",
       "Begrijpend Lezen     1115\n",
       "Name: Subject, dtype: int64"
      ]
     },
     "execution_count": 122,
     "metadata": {},
     "output_type": "execute_result"
    }
   ],
   "source": [
    "df.Subject.value_counts()"
   ]
  },
  {
   "cell_type": "code",
   "execution_count": 123,
   "metadata": {},
   "outputs": [
    {
     "data": {
      "text/plain": [
       "Getallen          15775\n",
       "Taalverzorging    14219\n",
       "Meten              5933\n",
       "-                  1131\n",
       "Verhoudingen        545\n",
       "Verbanden           209\n",
       "Name: Domain, dtype: int64"
      ]
     },
     "execution_count": 123,
     "metadata": {},
     "output_type": "execute_result"
    }
   ],
   "source": [
    "df.Domain.value_counts()"
   ]
  },
  {
   "cell_type": "code",
   "execution_count": 124,
   "metadata": {},
   "outputs": [
    {
     "data": {
      "text/plain": [
       "woorden met twee verschillende medeklinkers in het midden (kasteel, zakdoek)                            5693\n",
       "woorden eindigend op -d of -t                                                                           3147\n",
       "Optellen en aftrekken tot �1000                                                                         3128\n",
       "klinkerverenkeling (straten, bomen)                                                                     2718\n",
       "Tienstructuur: begrijpen                                                                                2241\n",
       "Vermenigvuldigen 8 x 32                                                                                 2023\n",
       "Meetinstrumenten aflezen - Klokkijken                                                                   1383\n",
       "Schatten met gegeven getallen                                                                           1370\n",
       "Diverse leerdoelen Begrijpend Lezen                                                                     1115\n",
       "Maten omrekenen met komma's                                                                              931\n",
       "Inzicht in relatie 3D en 2D                                                                              928\n",
       "Delen: kennen                                                                                            888\n",
       "Vermenigvuldigen met nullen (hele getallen)                                                              863\n",
       "Delen met rest of decimaal getal                                                                         852\n",
       "woorden met -ou-, -ouw, -au-, -auw (stout, vrouw, pauw)                                                  840\n",
       "woorden met -ch(t) (pech, bocht)                                                                         837\n",
       "verkleinwoorden met uitgang -je na -d en -t (vriendje, plantje), -pje, -etje (raampje, dingetje, ...     636\n",
       "Gehele getallen plaatsen op getallenlijn                                                                 591\n",
       "Getallenrij                                                                                              589\n",
       "Tijdmaten omrekenen +                                                                                    569\n",
       "Afronden op hele getallen                                                                                563\n",
       "Meetinstrumenten aflezen - Lengte                                                                        547\n",
       "Schatten door afronden                                                                                   487\n",
       "Maten omrekenen                                                                                          485\n",
       "Maateenheden omrekenen, ook geldrekenen                                                                  354\n",
       "Tafelsommen                                                                                              329\n",
       "Verhoudingsproblemen oplossen                                                                            304\n",
       "Delen: uitrekenen                                                                                        287\n",
       "Maat kiezen in context                                                                                   276\n",
       "Tijdmaten omrekenen                                                                                      243\n",
       "                                                                                                        ... \n",
       "woorden met een tweetekenklank (deuk, kuiken)                                                             35\n",
       "Sommen tot 100 - Somtype 42 + 5 en 42 + 8                                                                 33\n",
       "Sommen tot 100 - Somtype 48 + 4                                                                           27\n",
       "woorden met (-)ei(-) of (-)ij(-) (trein, lijst)                                                           24\n",
       "samengestelde woorden (tuindeur, schatkist)                                                               19\n",
       "Tienstructuur: Splitsen en aanvullen                                                                      17\n",
       "woorden met -aai, -ooi, -oei (saai, mooi, boei)                                                           17\n",
       "Referentiematen: kennen                                                                                   17\n",
       "woorden met mm kmm (plant, klomp)                                                                         16\n",
       "woorden met uitgang -lijk (eerlijk)                                                                       14\n",
       "Kennis over bewerkingen                                                                                   13\n",
       "stam van het werkwoord (sp)                                                                               13\n",
       "Sommen tot 100 - Sommen tot 20                                                                            12\n",
       "Meerdere spellingdoelen                                                                                    9\n",
       "woorden met -eeuw/-ieuw/-uw (sneeuw, nieuw, duw)*                                                          9\n",
       "Meetkundig inzicht                                                                                         8\n",
       "Schatten door afronden +                                                                                   7\n",
       "Spelling allerlei                                                                                          7\n",
       "Symbolen en hun relaties                                                                                   6\n",
       "woorden met uitgang -el, -er, -en, -te (sleutel, moeder, molen, breedte)                                   6\n",
       "Kritisch controleren door schatten of narekenen                                                            6\n",
       "Sommen tot 100 - Splitsen                                                                                  5\n",
       "Optellen en aftrekken met kommagetallen                                                                    4\n",
       "Optellen en aftrekken met nullen                                                                           3\n",
       "woorden met -a, -o, -u (papa, foto, nu)                                                                    3\n",
       "woorden met -nk of ng (bank, bang)                                                                         2\n",
       "Meetinstrumenten aflezen - Kalender                                                                        2\n",
       "Sommen tot 100 - Somtype 38 + 25                                                                           2\n",
       "Sommen tot 100 - Sommen tot 10                                                                             1\n",
       "Sommen tot 100 - Algemeen                                                                                  1\n",
       "Name: LearningObjective, Length: 79, dtype: int64"
      ]
     },
     "execution_count": 124,
     "metadata": {},
     "output_type": "execute_result"
    }
   ],
   "source": [
    "df.LearningObjective.value_counts()"
   ]
  },
  {
   "cell_type": "markdown",
   "metadata": {},
   "source": [
    "These columns seem to be pretty straightforward. Simply labels."
   ]
  },
  {
   "cell_type": "markdown",
   "metadata": {},
   "source": [
    "*Columns and levels: conclusions*\n",
    "\n",
    "- SubmittedAnswerId: is unusable for analysis in this context. It is pretty much unique for each row.\n",
    "- SubmitDateTime: Date and time the answer was submitted. Good data quality. UTC timestamp.\n",
    "- Correct: Mostly useable, although the value 3 remains a question. \n",
    "- Progress: (relative) progress. Can be positive or negative. Is 0 in 50% of the cases. This is potentially one of the most interesting variables of the dataset (as it describes the actual learning result) but its useability is questionable. However, we will use it for now, with a mental note to check its actual meaning and data quality.\n",
    "- UserId: just as it says it is.\n",
    "- ExerciseId: Seemed to be the ID of an exercise, i.e. a set of coherent questions towards an objective, but given its high cardinality, it is rather a question id. We will make some sort of session id to group together questions towards a certain learning objective.\n",
    "- Difficulty: describes (in absolute terms) how difficult a question is. Is sometimes empty.\n",
    "- Subject, Domain, LearningObjective: strings describing the nature of the question."
   ]
  },
  {
   "cell_type": "markdown",
   "metadata": {},
   "source": [
    "**Can we do something with the progress variable?**"
   ]
  },
  {
   "cell_type": "markdown",
   "metadata": {},
   "source": [
    "It would be nice if we could show progress of an individual student on a subject, compared to its fellow students. \n",
    "Progress is a relative variable (it doesn't show the actual level), but it still might yield some insight."
   ]
  },
  {
   "cell_type": "code",
   "execution_count": 570,
   "metadata": {},
   "outputs": [],
   "source": [
    "def progress_against_peer_group(user_id, learningobjective):\n",
    "    \"\"\"\n",
    "    Plots mean cumulative progress, and standard deviation for the entire group for a given learningobjective\n",
    "    Also plots cumulative progress for a given student.\n",
    "    \"\"\"\n",
    "    \n",
    "    # Sort the dataframe by user, objective, and date\n",
    "    df_sorted = df.sort_values(by=['UserId', 'LearningObjective', 'SubmitDateTime'])\n",
    "    # Add a date minus the time to group on\n",
    "    df_sorted['SubmitDate'] = df_sorted.SubmitDateTime.dt.date\n",
    "\n",
    "    # Sum the progress per day, per user, per objective\n",
    "    progress_per_day = pd.DataFrame(df_sorted.groupby(['UserId', 'LearningObjective', 'SubmitDate']).Progress.sum())\n",
    "    progress_per_day = progress_per_day.reset_index()\n",
    "    progress_per_day['Progress_cumulative'] = progress_per_day.groupby(['UserId', 'LearningObjective']).Progress.cumsum()\n",
    "\n",
    "    # Now calculate means\n",
    "    progress_per_day_means = progress_per_day.groupby(['LearningObjective', 'SubmitDate']).agg(['mean', np.std])\n",
    "    progress_per_day_means = progress_per_day_means.reset_index()\n",
    "\n",
    "    # Create a canvas for the plot\n",
    "    fig = go.FigureWidget()\n",
    "\n",
    "    # Set the values for the means and +1 and -1 stdev\n",
    "    df_learningobjective = progress_per_day_means[progress_per_day_means.LearningObjective == learningobjective]\n",
    "    values = df_learningobjective.Progress_cumulative['mean']\n",
    "    values_std = df_learningobjective.Progress_cumulative['std']\n",
    "    values_std = values_std.fillna(0)\n",
    "    ubound = values + values_std\n",
    "    lbound = values - values_std\n",
    "    user = progress_per_day[(progress_per_day.UserId == user_id) & (progress_per_day.LearningObjective == learningobjective)].Progress_cumulative\n",
    "\n",
    "    # Make the actual plot\n",
    "    labels = [str(i) for i in df_learningobjective.SubmitDate.to_list()]\n",
    "    fig.add_scatter(x=labels, y=values, name='Mean progress')\n",
    "    fig.add_scatter(x=labels, y=ubound, name='+1 stdev')\n",
    "    fig.add_scatter(x=labels, y=lbound, name='-1 stdev')\n",
    "    fig.add_scatter(x=labels, y=user, name=('Progress of %s' % str(user_id)))\n",
    "    return fig"
   ]
  },
  {
   "cell_type": "code",
   "execution_count": 571,
   "metadata": {},
   "outputs": [
    {
     "data": {
      "application/vnd.jupyter.widget-view+json": {
       "model_id": "cdb9f9fa8cfc44608aeb1870d3e42559",
       "version_major": 2,
       "version_minor": 0
      },
      "text/plain": [
       "RmlndXJlV2lkZ2V0KHsKICAgICdkYXRhJzogW3snbmFtZSc6ICdNZWFuIHByb2dyZXNzJywKICAgICAgICAgICAgICAndHlwZSc6ICdzY2F0dGVyJywKICAgICAgICAgICAgICAndWlkJzogJ2bigKY=\n"
      ]
     },
     "metadata": {},
     "output_type": "display_data"
    }
   ],
   "source": [
    "progress_against_peer_group(40272, 'woorden met twee verschillende medeklinkers in het midden (kasteel, zakdoek)')"
   ]
  },
  {
   "cell_type": "markdown",
   "metadata": {},
   "source": [
    "That looks nice. However, we might refine it a bit. The chart says something about progress, but doesn't tell all.\n",
    "If a student has a high level to start with, it will be hard to progress quickly. It would be nice to account for that as well.\n",
    "Let's try to find a rudimentary definition of the absolute level of each student. Obviously, this will be rough. If a better one is available in reality, we'll use that.\n",
    "We'll assume that the 'difficulty' variable is absolute in nature (same for each student given the same question). Also, we'll assume it is a scale that is standardized across domains. So a difficulty level *x* in two subject areas (say, calculus and algebra) corresponds roughly to the same level.\n",
    "So, the more hard questions a student answers correctly, the higher his/her level. \n",
    "A very simple way to get an idea of the level would then be the mean of the difficulty level of the questions answered correctly. As said, this is a huge simplification, but let's investigate it anyway.\n",
    "\n",
    "If that is the case, we can use the rolling mean of the difficulty level of the questions as a proxy for absolute level.\n",
    "\n",
    "Let's check if that makes sense."
   ]
  },
  {
   "cell_type": "code",
   "execution_count": 390,
   "metadata": {},
   "outputs": [
    {
     "data": {
      "application/vnd.jupyter.widget-view+json": {
       "model_id": "e2c3eb8b207643be9edaa6d4dc13bb8f",
       "version_major": 2,
       "version_minor": 0
      },
      "text/plain": [
       "RmlndXJlV2lkZ2V0KHsKICAgICdkYXRhJzogW3snbmFtZSc6ICc2ODQyMScsCiAgICAgICAgICAgICAgJ3R5cGUnOiAnc2NhdHRlcicsCiAgICAgICAgICAgICAgJ3VpZCc6ICdiNTJhNTNjOS3igKY=\n"
      ]
     },
     "metadata": {},
     "output_type": "display_data"
    }
   ],
   "source": [
    "# Let's check. We'l plot the rolling means (window=20) of the diff level of correctly-answered-questions for the\n",
    "# entire group, given subject spelling\n",
    "df_sorted = df.sort_values(by=['UserId', 'LearningObjective', 'SubmitDateTime'])\n",
    "fig = go.FigureWidget()\n",
    "for i in set(df_sorted.UserId):\n",
    "    one_user = df_sorted[(df_sorted.Correct == 1) & (df_sorted.UserId == i) & \n",
    "              (df_sorted.Subject == \n",
    "               'Spelling')].Difficulty\n",
    "    progress = one_user.rolling(min_periods=1, window=40).mean()\n",
    "    fig.add_scatter(y=progress, name=str(i))\n",
    "fig"
   ]
  },
  {
   "cell_type": "markdown",
   "metadata": {},
   "source": [
    "We see huge fluctuations, plus the time scale is off, obviously, since there is no time scale (just rows in the dataset). An alternative is to take the means per day:"
   ]
  },
  {
   "cell_type": "code",
   "execution_count": 398,
   "metadata": {},
   "outputs": [
    {
     "data": {
      "application/vnd.jupyter.widget-view+json": {
       "model_id": "dadd131c286444789fbc25b3ab0cd0ad",
       "version_major": 2,
       "version_minor": 0
      },
      "text/plain": [
       "RmlndXJlV2lkZ2V0KHsKICAgICdkYXRhJzogW3snbmFtZSc6ICc2ODQyMScsCiAgICAgICAgICAgICAgJ3R5cGUnOiAnc2NhdHRlcicsCiAgICAgICAgICAgICAgJ3VpZCc6ICc0NTdlYTFiMS3igKY=\n"
      ]
     },
     "metadata": {},
     "output_type": "display_data"
    }
   ],
   "source": [
    "fig = go.FigureWidget()\n",
    "for i in set(df_sorted.UserId):\n",
    "    df_sorted['SubmitDate'] = df_sorted.SubmitDateTime.dt.date\n",
    "    one_user = df_sorted[(df_sorted.UserId == i) & (df_sorted.Correct == 1) &\n",
    "              (df_sorted.Subject == 'Rekenen')].groupby('SubmitDate').Difficulty.mean()\n",
    "    # Smooth it out a bit \n",
    "    one_user = one_user.rolling(3).mean()\n",
    "    fig.add_scatter(y=one_user, name=str(i))\n",
    "fig\n"
   ]
  },
  {
   "cell_type": "markdown",
   "metadata": {},
   "source": [
    "Better. Let's make that into a preliminary generic function. However, we'll use the median, not the mean."
   ]
  },
  {
   "cell_type": "code",
   "execution_count": 572,
   "metadata": {},
   "outputs": [],
   "source": [
    "def absolute_progress_against_peer_group(user_id, groupon, groupon_value):\n",
    "    \"\"\"\n",
    "    Plots the mean estimated level (mean of difficulty of questions answered right)\n",
    "    and standard deviation for the entire group for a given learningobjective/domain/subject\n",
    "    Also plots cumulative progress for an individual student.\n",
    "    \"\"\"\n",
    "    \n",
    "    # Sort the dataframe by user, objective, and date\n",
    "    df_sorted = df.sort_values(by=['UserId', groupon, 'SubmitDateTime'])\n",
    "    # Add a date without the time to group on\n",
    "    df_sorted['SubmitDate'] = df_sorted.SubmitDateTime.dt.date\n",
    "\n",
    "    # Get the level per day, per user, per objective\n",
    "    level_per_day = pd.DataFrame(df_sorted[(df_sorted.Difficulty>0) & \n",
    "                                           (df_sorted.Correct == 1)].\n",
    "                                 groupby(['UserId', groupon, 'SubmitDate']).Difficulty.median())\n",
    "    level_per_day = level_per_day.reset_index()\n",
    "\n",
    "    # Now calculate means and stdev\n",
    "    level_per_day_means = level_per_day.groupby([groupon, 'SubmitDate']).agg(['mean', np.std])\n",
    "    level_per_day_means = level_per_day_means.reset_index()\n",
    "    \n",
    "    # Create a canvas for the plot\n",
    "    fig = go.FigureWidget()\n",
    "\n",
    "    # Set the values for the means and +1 and -1 stdev\n",
    "    df_learningobjective = level_per_day_means[level_per_day_means[groupon] == groupon_value]\n",
    "    values = df_learningobjective.Difficulty['mean'].rolling(3).mean()\n",
    "    values_std = df_learningobjective.Difficulty['std'].rolling(3).mean()\n",
    "    values_std = values_std.fillna(0)\n",
    "    ubound = values + values_std\n",
    "    lbound = values - values_std\n",
    "    user = level_per_day[(level_per_day.UserId == user_id) & (level_per_day[groupon] == groupon_value)].Difficulty\n",
    "    user = user.fillna(method='bfill')\n",
    "    user = user.rolling(3).mean()\n",
    "    # Make the actual plot\n",
    "    labels = [str(i) for i in df_learningobjective.SubmitDate.to_list()]\n",
    "    fig.add_scatter(x=labels, y=values, name='Median progress')\n",
    "    fig.add_scatter(x=labels, y=ubound, name='+1 stdev')\n",
    "    fig.add_scatter(x=labels, y=lbound, name='-1 stdev')\n",
    "    fig.add_scatter(x=labels, y=user, name=('Progress of %s' % str(user_id)))\n",
    "    return fig"
   ]
  },
  {
   "cell_type": "code",
   "execution_count": 573,
   "metadata": {},
   "outputs": [
    {
     "data": {
      "application/vnd.jupyter.widget-view+json": {
       "model_id": "54bb313907d74d4b85253b547e452bb3",
       "version_major": 2,
       "version_minor": 0
      },
      "text/plain": [
       "RmlndXJlV2lkZ2V0KHsKICAgICdkYXRhJzogW3snbmFtZSc6ICdNZWRpYW4gcHJvZ3Jlc3MnLAogICAgICAgICAgICAgICd0eXBlJzogJ3NjYXR0ZXInLAogICAgICAgICAgICAgICd1aWQnOiDigKY=\n"
      ]
     },
     "metadata": {},
     "output_type": "display_data"
    }
   ],
   "source": [
    "absolute_progress_against_peer_group(40272, 'LearningObjective','woorden met twee verschillende medeklinkers in het midden (kasteel, zakdoek)')"
   ]
  },
  {
   "cell_type": "markdown",
   "metadata": {},
   "source": [
    "**Conclusions and next steps**\n",
    "- Plan is to make a dashboard that shows time spent per subject and progress\n",
    "- For the progress, I will not make use of the Progress variable. It is relative, and I am not able to explain what it does (e.g. it is very often zero, even when students answer questions correctly/incorrectly). \n",
    "- Instead, I will use the simple measure described above: median difficulty of questions answered correctly. This is an oversimplification, but it is also a very explainable absolute measure.\n",
    "- Furthermore, I will develop a simple session indicator that will enable us to derive the time spent per exercise.\n",
    "\n",
    "Details in app.py/logic.py"
   ]
  },
  {
   "cell_type": "code",
   "execution_count": null,
   "metadata": {},
   "outputs": [],
   "source": []
  }
 ],
 "metadata": {
  "kernelspec": {
   "display_name": "Python 2",
   "language": "python",
   "name": "python2"
  },
  "language_info": {
   "codemirror_mode": {
    "name": "ipython",
    "version": 2
   },
   "file_extension": ".py",
   "mimetype": "text/x-python",
   "name": "python",
   "nbconvert_exporter": "python",
   "pygments_lexer": "ipython2",
   "version": "2.7.15"
  }
 },
 "nbformat": 4,
 "nbformat_minor": 2
}
