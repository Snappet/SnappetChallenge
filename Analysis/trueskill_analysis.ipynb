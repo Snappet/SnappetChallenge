{
 "cells": [
  {
   "cell_type": "code",
   "execution_count": null,
   "metadata": {},
   "outputs": [],
   "source": [
    "import pandas as pd\n",
    "import matplotlib.pyplot as plt\n",
    "plt.style.use('ggplot')"
   ]
  },
  {
   "cell_type": "code",
   "execution_count": null,
   "metadata": {},
   "outputs": [],
   "source": [
    "df = pd.read_csv(\"../Data/events.csv\", encoding=\"windows-1252\")\n",
    "df['SubmitDateTime'] = pd.to_datetime(df['SubmitDateTime'], format=\"%d/%m/%Y %H:%M:%S\")"
   ]
  },
  {
   "cell_type": "code",
   "execution_count": null,
   "metadata": {},
   "outputs": [],
   "source": [
    "df"
   ]
  },
  {
   "cell_type": "markdown",
   "metadata": {},
   "source": [
    "# Basic statistics"
   ]
  },
  {
   "cell_type": "code",
   "execution_count": null,
   "metadata": {},
   "outputs": [],
   "source": [
    "# Percent correct\n",
    "(df['Correct'] > 0).sum() / len(df)"
   ]
  },
  {
   "cell_type": "code",
   "execution_count": null,
   "metadata": {},
   "outputs": [],
   "source": [
    "# Mean/std difficulty\n",
    "print(f\"Mean: {df['Difficulty'].mean()}\")\n",
    "print(f\"STD: {df['Difficulty'].std()}\")"
   ]
  },
  {
   "cell_type": "code",
   "execution_count": null,
   "metadata": {},
   "outputs": [],
   "source": [
    "# Plot progress for a user\n",
    "progress_over_time = df[(df['UserId'] == 40281) & (df['Subject'] == 'Rekenen')]['Progress'].cumsum().to_numpy()\n",
    "x = range(len(progress_over_time))\n",
    "\n",
    "fig, ax1 = plt.subplots(figsize=(16,12))\n",
    "ax1.plot(x, progress_over_time)\n",
    "\n",
    "ax2 = ax1.twinx()\n",
    "\n",
    "# Plot trueskill over time for a user\n",
    "mean_over_time = df[(df['UserId'] == 40281) & (df['Subject'] == 'Rekenen')]['MeanDelta'].cumsum().to_numpy() + 25\n",
    "ax2.plot(x, mean_over_time, color='royalblue');"
   ]
  },
  {
   "cell_type": "code",
   "execution_count": null,
   "metadata": {},
   "outputs": [],
   "source": [
    "# Look at correlation between predicted correctness and actual correctness\n",
    "preds = df[df['CorrectProbability'] > 0]\n",
    "preds.corr()"
   ]
  },
  {
   "cell_type": "code",
   "execution_count": null,
   "metadata": {},
   "outputs": [],
   "source": [
    "# Histogram of number of answers per user\n",
    "df.groupby('UserId').count()['SubmittedAnswerId'].hist(bins=5);"
   ]
  },
  {
   "cell_type": "code",
   "execution_count": null,
   "metadata": {},
   "outputs": [],
   "source": [
    "# Histogram of number of times an exercise was done\n",
    "df.groupby('ExerciseId').count()['SubmittedAnswerId'].hist(bins=20);"
   ]
  },
  {
   "cell_type": "code",
   "execution_count": null,
   "metadata": {},
   "outputs": [],
   "source": [
    "# Distribution of probabilities\n",
    "df[df['CorrectProbability'] > 0]['CorrectProbability'].hist();"
   ]
  },
  {
   "cell_type": "code",
   "execution_count": null,
   "metadata": {},
   "outputs": [],
   "source": [
    "x = df[df['CorrectProbability'] > 0]['Correct']\n",
    "y = df[df['CorrectProbability'] > 0]['CorrectProbability']\n",
    "plt.scatter(x, y)"
   ]
  },
  {
   "cell_type": "code",
   "execution_count": null,
   "metadata": {},
   "outputs": [],
   "source": [
    "df[df['Correct'] == 0]['CorrectProbability'].mean()"
   ]
  },
  {
   "cell_type": "code",
   "execution_count": null,
   "metadata": {},
   "outputs": [],
   "source": [
    "df[df['Correct'] == 1]['CorrectProbability'].mean()"
   ]
  },
  {
   "cell_type": "code",
   "execution_count": null,
   "metadata": {},
   "outputs": [],
   "source": []
  }
 ],
 "metadata": {
  "kernelspec": {
   "display_name": "Python 3",
   "language": "python",
   "name": "python3"
  },
  "language_info": {
   "codemirror_mode": {
    "name": "ipython",
    "version": 3
   },
   "file_extension": ".py",
   "mimetype": "text/x-python",
   "name": "python",
   "nbconvert_exporter": "python",
   "pygments_lexer": "ipython3",
   "version": "3.7.1"
  }
 },
 "nbformat": 4,
 "nbformat_minor": 2
}
