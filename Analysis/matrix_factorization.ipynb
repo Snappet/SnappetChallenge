{
 "cells": [
  {
   "cell_type": "code",
   "execution_count": 1,
   "metadata": {},
   "outputs": [],
   "source": [
    "import pandas as pd\n",
    "import matplotlib.pyplot as plt\n",
    "plt.style.use('ggplot')\n",
    "\n",
    "df = pd.read_csv(\"../Data/events.csv\", encoding=\"windows-1252\")\n",
    "df['SubmitDateTime'] = pd.to_datetime(df['SubmitDateTime'], format=\"%d/%m/%Y %H:%M:%S\")"
   ]
  },
  {
   "cell_type": "code",
   "execution_count": 2,
   "metadata": {},
   "outputs": [],
   "source": [
    "from surprise import NormalPredictor, SVD\n",
    "from surprise import Dataset\n",
    "from surprise import Reader\n",
    "from surprise.model_selection import cross_validate, KFold, PredefinedKFold\n",
    "import numpy as np\n",
    "\n",
    "reader = Reader(rating_scale=(0, 3))\n",
    "# The columns must correspond to user id, item id and ratings (in that order).\n",
    "data = Dataset.load_from_df(df[df['SubmitDateTime'] < \"2015-03-24\"][['UserId', 'ExerciseId', 'Correct']], reader)\n",
    "data_test = df[df['SubmitDateTime'] >= \"2015-03-24\"][['UserId', 'ExerciseId', 'Correct']]\n",
    "algo = SVD()\n",
    "\n",
    "algo.fit(data.build_full_trainset())\n",
    "\n",
    "predictions = []\n",
    "actuals = []\n",
    "for ix, row in data_test.iterrows():\n",
    "    prediction = algo.predict(uid=row[0], iid=row[1])\n",
    "    prediction = prediction.est\n",
    "    \n",
    "    predictions.append(prediction)\n",
    "    actuals.append(row[2])\n",
    "    \n",
    "predictions = np.array(predictions)\n",
    "actuals = np.array(actuals)"
   ]
  },
  {
   "cell_type": "code",
   "execution_count": 3,
   "metadata": {},
   "outputs": [
    {
     "data": {
      "image/png": "[encoded data removed]",
      "text/plain": [
       "<Figure size 432x288 with 1 Axes>"
      ]
     },
     "metadata": {
      "needs_background": "light"
     },
     "output_type": "display_data"
    }
   ],
   "source": [
    "plt.hist(predictions);"
   ]
  },
  {
   "cell_type": "code",
   "execution_count": 4,
   "metadata": {},
   "outputs": [
    {
     "data": {
      "text/plain": [
       "0.7909738717339667"
      ]
     },
     "execution_count": 4,
     "metadata": {},
     "output_type": "execute_result"
    }
   ],
   "source": [
    "binary_predictions = (predictions > 0.65).astype(int)\n",
    "\n",
    "(binary_predictions == actuals).sum() / len(binary_predictions)"
   ]
  },
  {
   "cell_type": "code",
   "execution_count": null,
   "metadata": {},
   "outputs": [],
   "source": []
  }
 ],
 "metadata": {
  "kernelspec": {
   "display_name": "Python 3",
   "language": "python",
   "name": "python3"
  },
  "language_info": {
   "codemirror_mode": {
    "name": "ipython",
    "version": 3
   },
   "file_extension": ".py",
   "mimetype": "text/x-python",
   "name": "python",
   "nbconvert_exporter": "python",
   "pygments_lexer": "ipython3",
   "version": "3.7.1"
  }
 },
 "nbformat": 4,
 "nbformat_minor": 2
}
